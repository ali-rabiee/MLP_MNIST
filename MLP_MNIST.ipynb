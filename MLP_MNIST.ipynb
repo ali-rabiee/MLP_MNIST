{
  "nbformat": 4,
  "nbformat_minor": 0,
  "metadata": {
    "colab": {
      "name": "MLP_MNIST.ipynb",
      "provenance": [],
      "collapsed_sections": []
    },
    "kernelspec": {
      "display_name": "Python 3",
      "language": "python",
      "name": "python3"
    },
    "language_info": {
      "codemirror_mode": {
        "name": "ipython",
        "version": 3
      },
      "file_extension": ".py",
      "mimetype": "text/x-python",
      "name": "python",
      "nbconvert_exporter": "python",
      "pygments_lexer": "ipython3",
      "version": "3.8.6"
    },
    "toc": {
      "base_numbering": 1,
      "nav_menu": {},
      "number_sections": true,
      "sideBar": true,
      "skip_h1_title": false,
      "title_cell": "Table of Contents",
      "title_sidebar": "Contents",
      "toc_cell": false,
      "toc_position": {},
      "toc_section_display": true,
      "toc_window_display": false
    },
    "varInspector": {
      "cols": {
        "lenName": 16,
        "lenType": 16,
        "lenVar": 40
      },
      "kernels_config": {
        "python": {
          "delete_cmd_postfix": "",
          "delete_cmd_prefix": "del ",
          "library": "var_list.py",
          "varRefreshCmd": "print(var_dic_list())"
        },
        "r": {
          "delete_cmd_postfix": ") ",
          "delete_cmd_prefix": "rm(",
          "library": "var_list.r",
          "varRefreshCmd": "cat(var_dic_list()) "
        }
      },
      "types_to_exclude": [
        "module",
        "function",
        "builtin_function_or_method",
        "instance",
        "_Feature"
      ],
      "window_display": false
    }
  },
  "cells": [
    {
      "cell_type": "markdown",
      "metadata": {
        "id": "7P66a3NStetI"
      },
      "source": [
        "# CE-40717: Machine Learning"
      ]
    },
    {
      "cell_type": "markdown",
      "metadata": {
        "id": "vrjYHQqZzHJe"
      },
      "source": [
        "## HW4-MultiLayer Perceptron (MLP)"
      ]
    },
    {
      "cell_type": "markdown",
      "metadata": {
        "id": "ZsX3itNwTc8T"
      },
      "source": [
        "The following lines of code will load the [MNIST](http://yann.lecun.com/exdb/mnist/) data and turn them\n",
        "into numpy arrays, you can print their shape if you like.\n",
        "You can also transform the data as you wish, including seperating\n",
        "the training data for cross validation.\n",
        "\n",
        "If you have the data (on google drive or locally) change the root\n",
        "address accordingly, if you don't, set download=True but you might encounter\n",
        "some problems downloading the data."
      ]
    },
    {
      "cell_type": "code",
      "metadata": {
        "id": "JorTdXfuXQj4"
      },
      "source": [
        "'''\n",
        "Ali Rabiee 99210389\n",
        "'''"
      ],
      "execution_count": null,
      "outputs": []
    },
    {
      "cell_type": "code",
      "metadata": {
        "colab": {
          "base_uri": "https://localhost:8080/"
        },
        "id": "eRDGolwttJJr",
        "outputId": "1dc34c3b-f044-4d56-b918-8cd2f29c0c24"
      },
      "source": [
        "import torchvision.datasets as ds\n",
        "import numpy as np\n",
        "\n",
        "data_train = np.array(ds.MNIST(root=\"./data\", train=True, download=True).data)\n",
        "target_train = np.array(ds.MNIST(root=\"./data\", train=True, download=True).targets)\n",
        "data_test = np.array(ds.MNIST(root=\"./data\", train=False, download=True).data)\n",
        "target_test = np.array(ds.MNIST(root=\"./data\", train=False, download=True).targets)\n",
        "\n",
        "#### Transform the data! ####\n",
        "# Normalize Data\n",
        "data_train, data_test = data_train/255, data_test/255\n",
        "# Vectorize Data\n",
        "data_train = data_train.reshape(data_train.shape[0], -1)\n",
        "data_test = data_test.reshape(data_test.shape[0], -1)\n",
        "# Check Dimensions \n",
        "print(data_train.shape)\n",
        "print(data_test.shape)"
      ],
      "execution_count": null,
      "outputs": [
        {
          "output_type": "stream",
          "text": [
            "(60000, 784)\n",
            "(10000, 784)\n"
          ],
          "name": "stdout"
        }
      ]
    },
    {
      "cell_type": "markdown",
      "metadata": {
        "id": "OQ0i1tVuT3bb"
      },
      "source": [
        "### Part1:\n",
        "Complete the functions of the MLP class to create\n",
        "a MultiLayer Perceptron"
      ]
    },
    {
      "cell_type": "code",
      "metadata": {
        "id": "aRhVtYjp2fl-"
      },
      "source": [
        "def ReLU(x, der=False):\n",
        "    return (x>0)*1 if der else np.maximum(x, 0) \n",
        "\n",
        "def softmax(x, der=False):\n",
        "    exps = np.exp(x - x.max())\n",
        "    sigma = np.sum(exps, axis=0)\n",
        "    return exps / sigma * (1 - exps / sigma) if der else exps / sigma\n",
        "\n",
        "def one_hot(x):\n",
        "    out = np.zeros((x.size, x.max() + 1))\n",
        "    out[np.arange(x.size), x] = 1\n",
        "    return out.T\n",
        "\n",
        "def cross_entropy(predictions, targets, epsilon=1e-12):\n",
        "    \"\"\"\n",
        "    Computes cross entropy between targets (encoded as one-hot vectors)\n",
        "    and predictions. \n",
        "    Input: predictions (N, k) ndarray\n",
        "           targets (N, k) ndarray        \n",
        "    Returns: scalar\n",
        "    \"\"\"\n",
        "    predictions = np.clip(predictions, epsilon, 1. - epsilon)\n",
        "    N = predictions.shape[0]\n",
        "    ce = -np.sum(targets*np.log(predictions+1e-9))/N\n",
        "    return ce"
      ],
      "execution_count": null,
      "outputs": []
    },
    {
      "cell_type": "code",
      "metadata": {
        "id": "86AdE8SntShx"
      },
      "source": [
        "class MLP:\n",
        "    def __init__(self, in_dimensions, hidden_dimensions, out_dimensions):\n",
        "      \n",
        "        self.w1 = np.random.normal(size=(in_dimensions, hidden_dimensions)) / in_dimensions\n",
        "        self.b1 = np.random.normal(size=(1,hidden_dimensions)) / in_dimensions\n",
        "        self.w2 = np.random.normal(size=(hidden_dimensions,out_dimensions)) / in_dimensions\n",
        "        self.b2 = np.random.normal(size=(1,out_dimensions)) / in_dimensions\n",
        "\n",
        "    def forward(self, x):\n",
        "        # perform a forward pass of the network and return the result\n",
        "        # remember to retain the value of each node (i.e. self.h1_forward)\n",
        "        # in order to use in backpropagation\n",
        "        # Use whatever activation function you wish for the first layer\n",
        "        # and softmax activation for the output layer\n",
        "        self.input = x.T \n",
        "        self.z1_forward = (self.w1.T @ self.input) + self.b1.T\n",
        "        self.h1_forward = ReLU(self.z1_forward)\n",
        "        self.z2_forward = (self.w2.T @ self.h1_forward) + self.b2.T\n",
        "        self.h2_forward = softmax(self.z2_forward)\n",
        "        \n",
        "    def backward(self, loss, y):\n",
        "        # perform backpropagation on the loss value and compute the gradient \n",
        "        # w.r.t. every element of the network and retain them (i.e. self.w1_backward)\n",
        "        self.delta_wrt_z2 = self.h2_forward - one_hot(y)\n",
        "        self.delta_wrt_w2 = 1 / y.size * self.delta_wrt_z2 @ self.h1_forward.T\n",
        "        self.delta_wrt_b2 = 1 / y.size * np.sum(self.delta_wrt_z2)\n",
        "        self.delta_wrt_z1 = (self.w2 @ self.delta_wrt_z2) * ReLU(self.z1_forward, der=True)\n",
        "        self.delta_wrt_w1 = 1 / y.size * self.delta_wrt_z1 @ self.input.T\n",
        "        self.delta_wrt_b1 = 1 / y.size * np.sum(self.delta_wrt_z1)\n",
        "      \n",
        "    def step(self, lr, lam):\n",
        "        # simply update all the weights using the gradinets computed in backward\n",
        "        # and the given learning rate with SGD\n",
        "        # don't forget to use regularization\n",
        "        self.w1 = self.w1 - lr * (self.delta_wrt_w1.T + lam * self.w1)\n",
        "        self.b1 = self.b1 - lr * (self.delta_wrt_b1.T + lam * self.b1)\n",
        "        self.w2 = self.w2 - lr * (self.delta_wrt_w2.T + lam * self.w2)\n",
        "        self.b2 = self.b2 - lr * (self.delta_wrt_b2.T + lam * self.b2)"
      ],
      "execution_count": null,
      "outputs": []
    },
    {
      "cell_type": "markdown",
      "metadata": {
        "id": "EeMLiOlMUC2D"
      },
      "source": [
        "### Part2:\n",
        "Make instances of your network and train them **using l2 regularization and choose the lambda using k-fold cross validation\n",
        "(set the candidate lambda as you wish)**.\n",
        "\n",
        "You may choose the hyperparameters (i.e. num of epochs, learning rate etc.)\n",
        "as you wish. \n",
        "\n",
        "Then train a final model on all the training data with the chosen lambda.\n"
      ]
    },
    {
      "cell_type": "code",
      "metadata": {
        "colab": {
          "base_uri": "https://localhost:8080/"
        },
        "id": "0Ojg9CSL4vei",
        "outputId": "20b4e80c-0f37-45ac-ae37-267f7bffb8b5"
      },
      "source": [
        "n_epochs = 50 # number of epochs\n",
        "lr = 0.6 # learning rate\n",
        "k = 20 # number of folds\n",
        "in_dim = 784 # MNIST has 28*28 images\n",
        "hidden_dim = 20 # number of hidden dimensions for the hidden layer\n",
        "out_dim =  10 # MNIST has 10 classes\n",
        "fold_len = int(data_train.shape[0]/k)\n",
        "lambdas = [1e-1, 1e-2, 1e-3, 1e-4, 1e-5] \n",
        "best_lambda = lambdas[-1]\n",
        "best_acc = 0\n",
        "\n",
        "for l in lambdas:\n",
        "    #model = MLP(in_dim, hidden_dim, out_dim)\n",
        "    acc = 0 # accuracy for current lambda\n",
        "    loss = 0 # loss for current lambda\n",
        "    acc_history = []\n",
        "    loss_history = []\n",
        "    for j in range(k):\n",
        "        model = MLP(in_dim, hidden_dim, out_dim)\n",
        "        fold_train_set = np.concatenate(\n",
        "            (data_train[:j * fold_len], data_train[(j+1) * fold_len:])) \n",
        "        fold_train_target = np.concatenate(\n",
        "            (target_train[:j * fold_len], target_train[(j+1) * fold_len:])) \n",
        "        val_set = data_train[j * fold_len:(j+1) * fold_len] \n",
        "        val_target = target_train[j * fold_len:(j+1) * fold_len] \n",
        "\n",
        "        for i in range(n_epochs):\n",
        "            # train the model on the data with the current lambda\n",
        "            # train the model on the data with the curent lambda\n",
        "            model.forward(fold_train_set)\n",
        "            pred = np.argmax(model.h2_forward, 0)\n",
        "            loss = cross_entropy(pred, fold_train_target)\n",
        "            model.backward(loss, fold_train_target)\n",
        "            model.step(lr, l)\n",
        "        # test the model on the current validation data\n",
        "        model.forward(val_set)\n",
        "        pred = np.argmax(model.h2_forward, 0)\n",
        "        acc_of_fold = np.sum(pred == val_target) / val_target.size\n",
        "        loss_of_fold = cross_entropy(pred, val_target)\n",
        "        acc_history.append(acc_of_fold)\n",
        "        loss_history.append(loss_of_fold)\n",
        "\n",
        "    acc = np.mean(acc_history)\n",
        "    loss = np.mean(loss_history)\n",
        "\n",
        "    print(\"Lambda:\", l)\n",
        "    print(\"Loss: %.4f Accuracy: %.4f\" % (loss, acc))\n",
        "    print()\n",
        "    if acc > best_acc:\n",
        "        best_acc = acc\n",
        "        best_lambda = l\n",
        "\n",
        "print(\"Best lambda is\",best_lambda, \"with %.4f accuracy\" % best_acc)"
      ],
      "execution_count": null,
      "outputs": [
        {
          "output_type": "stream",
          "text": [
            "Lambda: 0.1\n",
            "Loss: 1.2475 Accuracy: 0.7181\n",
            "\n",
            "Lambda: 0.01\n",
            "Loss: 1.3818 Accuracy: 0.7797\n",
            "\n",
            "Lambda: 0.001\n",
            "Loss: 1.6826 Accuracy: 0.7834\n",
            "\n",
            "Lambda: 0.0001\n",
            "Loss: 1.2319 Accuracy: 0.7905\n",
            "\n",
            "Lambda: 1e-05\n",
            "Loss: 1.3977 Accuracy: 0.7826\n",
            "\n",
            "Best lambda is 0.0001 with 0.7905 accuracy\n"
          ],
          "name": "stdout"
        }
      ]
    },
    {
      "cell_type": "markdown",
      "metadata": {
        "id": "6cDg4S27xD5Y"
      },
      "source": [
        "### Part3:\n",
        "Train a final model using the best lambda on all the training data"
      ]
    },
    {
      "cell_type": "code",
      "metadata": {
        "id": "fE1mC1BkxMdt",
        "colab": {
          "base_uri": "https://localhost:8080/"
        },
        "outputId": "75b072f4-d28d-4889-acdf-d88e343ba7b0"
      },
      "source": [
        "n_epochs = 100 # number of epochs\n",
        "lr = 0.25 # learning rate\n",
        "model = MLP(in_dim, hidden_dim, out_dim)# new model\n",
        "loss_history = []\n",
        "acc_history = []\n",
        "for i in range(n_epochs):\n",
        "    #### training code here ####\n",
        "    model.forward(data_train)\n",
        "    pred = np.argmax(model.h2_forward, 0)\n",
        "    acc = np.sum(pred == target_train) / target_train.size\n",
        "    acc_history.append(acc)\n",
        "    loss = cross_entropy(pred, target_train)\n",
        "    loss_history.append(loss)\n",
        "    model.backward(loss, target_train)\n",
        "    model.step(lr, best_lambda)\n",
        "    if (i+1)%10 == 0 :\n",
        "      print(f\"epoch: {i+1}\\tLoss: {loss:3f}  Accuracy: {acc:3f}\")"
      ],
      "execution_count": null,
      "outputs": [
        {
          "output_type": "stream",
          "text": [
            "epoch: 10\tLoss: 0.005526  Accuracy: 0.112633\n",
            "epoch: 20\tLoss: 67.142215  Accuracy: 0.154500\n",
            "epoch: 30\tLoss: 84.803457  Accuracy: 0.190900\n",
            "epoch: 40\tLoss: 69.611273  Accuracy: 0.229350\n",
            "epoch: 50\tLoss: 21.343244  Accuracy: 0.416767\n",
            "epoch: 60\tLoss: 4.386904  Accuracy: 0.628967\n",
            "epoch: 70\tLoss: 1.884690  Accuracy: 0.696133\n",
            "epoch: 80\tLoss: 1.277182  Accuracy: 0.743817\n",
            "epoch: 90\tLoss: 1.043021  Accuracy: 0.780700\n",
            "epoch: 100\tLoss: 0.916960  Accuracy: 0.808467\n"
          ],
          "name": "stdout"
        }
      ]
    },
    {
      "cell_type": "markdown",
      "metadata": {
        "id": "zjXb3zg7zHJm"
      },
      "source": [
        "### Part4:"
      ]
    },
    {
      "cell_type": "markdown",
      "metadata": {
        "id": "6X8hFKXQUeml"
      },
      "source": [
        "Plot the training loss value and accuracy (mean over all batches each epoch if you're using mini-batches) over epochs\n",
        "for the final model that is trained on all the training data"
      ]
    },
    {
      "cell_type": "code",
      "metadata": {
        "id": "_LpeQU225eGi",
        "colab": {
          "base_uri": "https://localhost:8080/",
          "height": 606
        },
        "outputId": "b7037e28-0d9d-426b-d0d9-100dcaae028e"
      },
      "source": [
        "import matplotlib.pyplot as plt\n",
        "epochs = range(1, n_epochs+1)\n",
        "plt.figure(figsize=(10,10))\n",
        "plt.plot(epochs, loss_history)\n",
        "plt.xlabel('epoch')\n",
        "plt.ylabel('loss')\n",
        "plt.show()"
      ],
      "execution_count": null,
      "outputs": [
        {
          "output_type": "display_data",
          "data": {
            "image/png": "[encoded data removed]",
            "text/plain": [
              "<Figure size 720x720 with 1 Axes>"
            ]
          },
          "metadata": {
            "tags": [],
            "needs_background": "light"
          }
        }
      ]
    },
    {
      "cell_type": "markdown",
      "metadata": {
        "id": "WIaBwatyUqmC"
      },
      "source": [
        "Use your network on the test set and report the accuracy, you must get at least 70% accuracy on the test set."
      ]
    },
    {
      "cell_type": "code",
      "metadata": {
        "id": "NmQiBh4C5ULJ",
        "colab": {
          "base_uri": "https://localhost:8080/"
        },
        "outputId": "a647b060-93ec-4eae-b887-4b365773d9f6"
      },
      "source": [
        "model.forward(data_test)\n",
        "pred = np.argmax(model.h2_forward, 0)\n",
        "acc = (np.sum(pred == target_test) / target_test.size)*100\n",
        "print(f\"Accuracy: {acc:3f} %\")"
      ],
      "execution_count": null,
      "outputs": [
        {
          "output_type": "stream",
          "text": [
            "Accuracy: 81.730000 %\n"
          ],
          "name": "stdout"
        }
      ]
    },
    {
      "cell_type": "markdown",
      "metadata": {
        "id": "zyp8Wgx_nV-A"
      },
      "source": [
        "Below you can add code cells and improve on the network structure as you see fit (it still must be an MLP), train and test your network and explain why it works better.\n"
      ]
    },
    {
      "cell_type": "code",
      "metadata": {
        "id": "1zvIg3R0DTzn"
      },
      "source": [
        "class MLP_improve:\n",
        "    def __init__(self, in_dimensions, hidden_dimension1, hidden_dimension2, out_dimensions):\n",
        "      # Here I use better initialization for weights \n",
        "        self.w1 = np.random.rand(in_dimensions, hidden_dimension1) - 0.5\n",
        "        self.b1 = np.random.rand(1, hidden_dimension1) - 0.5\n",
        "        self.w2 = np.random.rand(hidden_dimension1, hidden_dimension2) - 0.5\n",
        "        self.b2 = np.random.rand(1, hidden_dimension2) - 0.5\n",
        "        self.w3 = np.random.rand(hidden_dimension2, out_dimensions) - 0.5\n",
        "        self.b3 = np.random.rand(1, out_dimensions) - 0.5\n",
        "\n",
        "    def forward(self, x):\n",
        "      \n",
        "        self.input = x.T \n",
        "        self.z1_forward = (self.w1.T @ self.input) + self.b1.T\n",
        "        self.h1_forward = ReLU(self.z1_forward)\n",
        "        self.z2_forward = (self.w2.T @ self.h1_forward) + self.b2.T\n",
        "        self.h2_forward = ReLU(self.z2_forward)\n",
        "        self.z3_forward = (self.w3.T @ self.h2_forward) + self.b3.T\n",
        "        self.h3_forward = softmax(self.z3_forward)\n",
        "        \n",
        "    def backward(self, loss, y):\n",
        "        self.delta_wrt_z3 = self.h3_forward - one_hot(y)\n",
        "        self.delta_wrt_w3 = 1 / y.size * self.delta_wrt_z3 @ self.h2_forward.T\n",
        "        self.delta_wrt_b3 = 1 / y.size * np.sum(self.delta_wrt_z3)\n",
        "        self.delta_wrt_z2 = (self.w3 @ self.delta_wrt_z3) * ReLU(self.z2_forward, der=True)\n",
        "        self.delta_wrt_w2 = 1 / y.size * self.delta_wrt_z2 @ self.h1_forward.T\n",
        "        self.delta_wrt_b2 = 1 / y.size * np.sum(self.delta_wrt_z2)\n",
        "        self.delta_wrt_z1 = (self.w2 @ self.delta_wrt_z2) * ReLU(self.z1_forward, der=True)\n",
        "        self.delta_wrt_w1 = 1 / y.size * self.delta_wrt_z1 @ self.input.T\n",
        "        self.delta_wrt_b1 = 1 / y.size * np.sum(self.delta_wrt_z1)\n",
        "      \n",
        "    def step(self, lr, lam):\n",
        "        \n",
        "        self.w1 = self.w1 - lr * (self.delta_wrt_w1.T + lam * self.w1)\n",
        "        self.b1 = self.b1 - lr * (self.delta_wrt_b1.T + lam * self.b1)\n",
        "        self.w2 = self.w2 - lr * (self.delta_wrt_w2.T + lam * self.w2)\n",
        "        self.b2 = self.b2 - lr * (self.delta_wrt_b2.T + lam * self.b2)\n",
        "        self.w3 = self.w3 - lr * (self.delta_wrt_w3.T + lam * self.w3)\n",
        "        self.b3 = self.b3 - lr * (self.delta_wrt_b3.T + lam * self.b3)"
      ],
      "execution_count": null,
      "outputs": []
    },
    {
      "cell_type": "code",
      "metadata": {
        "colab": {
          "base_uri": "https://localhost:8080/"
        },
        "id": "BDTfFeaYLlUq",
        "outputId": "cf87349b-35c4-4d34-a284-44ef2a813897"
      },
      "source": [
        "# Train Model\n",
        "n_epochs = 200 \n",
        "lr = 0.75 \n",
        "in_dim = 784\n",
        "hidden_dim1 = 32\n",
        "hidden_dim2 = 16\n",
        "out_dim =  10 \n",
        "best_lambda = lambdas[-1]\n",
        "model = MLP_improve(in_dim, hidden_dim1, hidden_dim2, out_dim)\n",
        "loss_history = []\n",
        "acc_history = []\n",
        "for i in range(n_epochs):\n",
        "    #### training code here ####\n",
        "    model.forward(data_train)\n",
        "    pred = np.argmax(model.h3_forward, 0)\n",
        "    acc = np.sum(pred == target_train) / target_train.size\n",
        "    acc_history.append(acc)\n",
        "    loss = cross_entropy(pred, target_train)\n",
        "    loss_history.append(loss)\n",
        "    model.backward(loss, target_train)\n",
        "    model.step(lr, best_lambda)\n",
        "    if (i+1)%10 == 0:\n",
        "      print(f\"epoch: {i+1}\\tLoss: {loss:3f}  Accuracy: {acc:3f}\")"
      ],
      "execution_count": null,
      "outputs": [
        {
          "output_type": "stream",
          "text": [
            "epoch: 10\tLoss: 9.562290  Accuracy: 0.428450\n",
            "epoch: 20\tLoss: 2.780928  Accuracy: 0.519650\n",
            "epoch: 30\tLoss: 0.196862  Accuracy: 0.524233\n",
            "epoch: 40\tLoss: 1.529994  Accuracy: 0.779533\n",
            "epoch: 50\tLoss: 1.416712  Accuracy: 0.789100\n",
            "epoch: 60\tLoss: 0.847195  Accuracy: 0.816483\n",
            "epoch: 70\tLoss: 0.623395  Accuracy: 0.823517\n",
            "epoch: 80\tLoss: 0.637900  Accuracy: 0.855650\n",
            "epoch: 90\tLoss: 0.578151  Accuracy: 0.856017\n",
            "epoch: 100\tLoss: 0.557429  Accuracy: 0.864367\n",
            "epoch: 110\tLoss: 0.616833  Accuracy: 0.883100\n",
            "epoch: 120\tLoss: 0.578842  Accuracy: 0.886883\n",
            "epoch: 130\tLoss: 0.509422  Accuracy: 0.880733\n",
            "epoch: 140\tLoss: 0.510113  Accuracy: 0.895167\n",
            "epoch: 150\tLoss: 0.482138  Accuracy: 0.898800\n",
            "epoch: 160\tLoss: 0.490082  Accuracy: 0.895567\n",
            "epoch: 170\tLoss: 0.549140  Accuracy: 0.906633\n",
            "epoch: 180\tLoss: 0.523237  Accuracy: 0.911333\n",
            "epoch: 190\tLoss: 0.529454  Accuracy: 0.910417\n",
            "epoch: 200\tLoss: 0.501824  Accuracy: 0.911533\n"
          ],
          "name": "stdout"
        }
      ]
    },
    {
      "cell_type": "code",
      "metadata": {
        "colab": {
          "base_uri": "https://localhost:8080/",
          "height": 606
        },
        "id": "cNra_XR_QYaB",
        "outputId": "00d7aa82-4f02-4bd0-e26e-5e01f7b74dbc"
      },
      "source": [
        "import matplotlib.pyplot as plt\n",
        "epochs = range(1, n_epochs+1)\n",
        "plt.figure(figsize=(10,10))\n",
        "plt.plot(epochs, loss_history)\n",
        "plt.xlabel('epoch')\n",
        "plt.ylabel('loss')\n",
        "plt.show()"
      ],
      "execution_count": null,
      "outputs": [
        {
          "output_type": "display_data",
          "data": {
            "image/png": "[encoded data removed]",
            "text/plain": [
              "<Figure size 720x720 with 1 Axes>"
            ]
          },
          "metadata": {
            "tags": [],
            "needs_background": "light"
          }
        }
      ]
    },
    {
      "cell_type": "code",
      "metadata": {
        "colab": {
          "base_uri": "https://localhost:8080/"
        },
        "id": "M3AhqFqlQaUP",
        "outputId": "796780e9-611c-484a-d082-8ba9835b4d64"
      },
      "source": [
        "model.forward(data_test)\n",
        "pred = np.argmax(model.h3_forward, 0)\n",
        "acc = (np.sum(pred == target_test) / target_test.size)*100\n",
        "print(f\"Accuracy: {acc:3f} %\")"
      ],
      "execution_count": null,
      "outputs": [
        {
          "output_type": "stream",
          "text": [
            "Accuracy: 91.080000 %\n"
          ],
          "name": "stdout"
        }
      ]
    }
  ]
}